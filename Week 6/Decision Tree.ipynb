{
 "cells": [
  {
   "cell_type": "markdown",
   "metadata": {},
   "source": [
    "### Decision Tree\n",
    "\n",
    "In this chapter you will learn how to make a \"Decision Tree\". A Decision Tree is a flow chart, and can help you make decisions \n",
    "based on previous experience.\n",
    "\n",
    "Decision trees are great algorithms to learn for many reasons. \n",
    "* it is great for beginners \n",
    "* it’s a “white box” algorithm, meaning that you can actually understand the decision-making of the algorithm. \n",
    "This is especially useful for beginners to understand the “how” of machine learning.\n",
    "\n",
    "Beyond this, decision trees are great algorithms because:\n",
    "\n",
    "1. They’re generally faster to train than most of the other algorithms\n",
    "2. Their complexity is a by-product (something that is produced as a result of making something else) of \n",
    "the data’s attributes and dimensions\n",
    "3. It’s a non-parametric method meaning that they do not depend on probability distribution assumptions\n",
    "4. They can handle high dimensional data with high degrees of accuracy\n",
    "\n",
    "### How do Decision Trees Work?\n",
    "Decision trees work by splitting data into a series of binary decisions. These decisions allow you to traverse down the tree \n",
    "based on these decisions. You continue moving through the decisions until you end at a leaf node, \n",
    "which will return the predicted classification.\n",
    "\n",
    "In the following example, a person will try to decide if he/she should go to a comedy show or not.\n",
    "\n",
    "Luckily our example person has registered every time there was a comedy show in town, and registered some information \n",
    "about the comedian, and also registered if he/she went or not.\n",
    "\n",
    "Age,Experience,Rank,Nationality,Go\n",
    "36,10,9,UK,NO\n",
    "42,12,4,USA,NO \n",
    "23,4,6,N,NO\n",
    "52,4,4,USA,NO\n",
    "43,21,8,USA,YES\n",
    "44,14,5,UK,NO\n",
    "66,3,7,N,YES\n",
    "35,14,9,UK,YES\n",
    "52,13,7,N,YES\n",
    "35,5,9,N,YES\n",
    "24,3,5,USA,NO\n",
    "18,3,7,UK,YES\n",
    "45,9,9,UK,YES\n",
    "\n",
    "Now, based on this data set, Python can create a decision tree that can be used to decide if any new shows are worth attending to.\n",
    "\n",
    "### How Does it Work?\n",
    "\n",
    "First, read the dataset with pandas:"
   ]
  },
  {
   "cell_type": "code",
   "execution_count": 1,
   "metadata": {},
   "outputs": [
    {
     "name": "stdout",
     "output_type": "stream",
     "text": [
      "    Age  Experience  Rank Nationality   Go\n",
      "0    36          10     9          UK   NO\n",
      "1    42          12     4         USA   NO\n",
      "2    23           4     6           N   NO\n",
      "3    52           4     4         USA   NO\n",
      "4    43          21     8         USA  YES\n",
      "5    44          14     5          UK   NO\n",
      "6    66           3     7           N  YES\n",
      "7    35          14     9          UK  YES\n",
      "8    52          13     7           N  YES\n",
      "9    35           5     9           N  YES\n",
      "10   24           3     5         USA   NO\n",
      "11   18           3     7          UK  YES\n",
      "12   45           9     9          UK  YES\n"
     ]
    }
   ],
   "source": [
    "import pandas\n",
    "\n",
    "df = pandas.read_csv(\"data_for_decision_tree.csv\")\n",
    "\n",
    "print(df)"
   ]
  },
  {
   "cell_type": "markdown",
   "metadata": {},
   "source": [
    "To make a decision tree, all data has to be numerical.\n",
    "\n",
    "We have to convert the non numerical columns 'Nationality' and 'Go' into numerical values.\n",
    "\n",
    "Pandas has a map() method that takes a dictionary with information on how to convert the values.\n",
    "\n",
    "{'UK': 0, 'USA': 1, 'N': 2}\n",
    "\n",
    "Means convert the values 'UK' to 0, 'USA' to 1, and 'N' to 2.\n",
    "\n",
    "### Example\n",
    "\n",
    "Change string values into numerical values:"
   ]
  },
  {
   "cell_type": "code",
   "execution_count": 2,
   "metadata": {},
   "outputs": [
    {
     "name": "stdout",
     "output_type": "stream",
     "text": [
      "    Age  Experience  Rank  Nationality  Go\n",
      "0    36          10     9            0   0\n",
      "1    42          12     4            1   0\n",
      "2    23           4     6            2   0\n",
      "3    52           4     4            1   0\n",
      "4    43          21     8            1   1\n",
      "5    44          14     5            0   0\n",
      "6    66           3     7            2   1\n",
      "7    35          14     9            0   1\n",
      "8    52          13     7            2   1\n",
      "9    35           5     9            2   1\n",
      "10   24           3     5            1   0\n",
      "11   18           3     7            0   1\n",
      "12   45           9     9            0   1\n"
     ]
    }
   ],
   "source": [
    "d = {'UK': 0, 'USA': 1, 'N': 2} # define a dictionary. Convert 'UK'to 0, 'USA' to 1, 'N'to 2\n",
    "df['Nationality'] = df['Nationality'].map(d) # \n",
    "d = {'YES': 1, 'NO': 0} # Convert 'YES' to 1, 'NO' to 0\n",
    "df['Go'] = df['Go'].map(d)\n",
    "\n",
    "print(df)"
   ]
  },
  {
   "cell_type": "markdown",
   "metadata": {},
   "source": [
    "\"Curly Braces\" are used in Python to define a dictionary. A dictionary is a data structure that maps one value to another - kind of like how an English dictionary maps a word to its definition. They are not used to denote code blocks as they are in many \"C-like\" languages.\n",
    "\n",
    "Now, we have to separate the feature columns from the target column.\n",
    "\n",
    "The feature columns are the columns that we try to predict from, and the target column is the column with the values we try to predict.\n",
    "\n",
    "X is the feature columns, y is the target column:"
   ]
  },
  {
   "cell_type": "code",
   "execution_count": 3,
   "metadata": {},
   "outputs": [],
   "source": [
    "features = ['Age', 'Experience', 'Rank', 'Nationality']\n",
    "\n",
    "X = df[features] # we can think these values as independent variables\n",
    "y = df['Go'] # We can think this value as dependent variable\n",
    "\n",
    "#print(X)\n",
    "#print(y)"
   ]
  },
  {
   "cell_type": "markdown",
   "metadata": {},
   "source": [
    "Now we can create and display the decision tree, fit it with our details. Start by importing the modules we need."
   ]
  },
  {
   "cell_type": "code",
   "execution_count": 4,
   "metadata": {},
   "outputs": [],
   "source": [
    "#Three lines to make our compiler able to draw:\n",
    "import sys\n",
    "import matplotlib\n",
    "matplotlib.use('TkAgg')\n",
    "\n",
    "from sklearn import tree\n",
    "from sklearn.tree import DecisionTreeClassifier\n",
    "import matplotlib.pyplot as plt\n",
    "\n",
    "\n",
    "dtree = DecisionTreeClassifier() # Decision tree classifiers are supervised machine learning models. \n",
    "                                 # This means that they use prelabelled data in order to train an algorithm that can be used \n",
    "                                 # to make a prediction. \n",
    "# Decision tree classifiers work like flowcharts. Each node of a decision tree represents a decision point that splits into \n",
    "# two leaf nodes. Each of these nodes represents the outcome of the decision and each of the decisions can also turn into \n",
    "# decision nodes. Eventually, the different decisions will lead to a final classification.\n",
    "dtree = dtree.fit(X, y)\n",
    "\n",
    "tree.plot_tree(dtree, feature_names=features)\n",
    "\n",
    "plt.show() "
   ]
  },
  {
   "cell_type": "markdown",
   "metadata": {},
   "source": [
    "### Result Explained\n",
    "\n",
    "The decision tree uses your earlier decisions to calculate the odds for you to wanting to go see a comedian or not.\n",
    "\n",
    "To read the different aspects of the decision tree, refer to the \"week 6 decision tree explanation.docx\" file on Yulearn week 6."
   ]
  },
  {
   "cell_type": "code",
   "execution_count": 5,
   "metadata": {},
   "outputs": [
    {
     "name": "stdout",
     "output_type": "stream",
     "text": [
      "[1]\n",
      "[0]\n",
      "[1] means 'GO'\n",
      "[0] means 'NO GO'\n"
     ]
    },
    {
     "name": "stderr",
     "output_type": "stream",
     "text": [
      "C:\\Anaconda3\\lib\\site-packages\\sklearn\\base.py:450: UserWarning: X does not have valid feature names, but DecisionTreeClassifier was fitted with feature names\n",
      "  warnings.warn(\n",
      "C:\\Anaconda3\\lib\\site-packages\\sklearn\\base.py:450: UserWarning: X does not have valid feature names, but DecisionTreeClassifier was fitted with feature names\n",
      "  warnings.warn(\n"
     ]
    }
   ],
   "source": [
    "print(dtree.predict([[50, 12, 7, 1]]))\n",
    "\n",
    "print(dtree.predict([[40, 10, 6.3, 0]]))\n",
    "\n",
    "print(\"[1] means 'GO'\")\n",
    "print(\"[0] means 'NO GO'\")"
   ]
  },
  {
   "cell_type": "markdown",
   "metadata": {},
   "source": [
    "### Different Results\n",
    "\n",
    "You will see that the Decision Tree gives you different results if you run it enough times, even if you feed it with the same data.\n",
    "\n",
    "That is because the Decision Tree does not give us a 100% certain answer. It is based on the probability of an outcome, and the answer will vary."
   ]
  },
  {
   "cell_type": "code",
   "execution_count": null,
   "metadata": {},
   "outputs": [],
   "source": []
  },
  {
   "cell_type": "code",
   "execution_count": null,
   "metadata": {},
   "outputs": [],
   "source": []
  }
 ],
 "metadata": {
  "kernelspec": {
   "display_name": "Python 3 (ipykernel)",
   "language": "python",
   "name": "python3"
  },
  "language_info": {
   "codemirror_mode": {
    "name": "ipython",
    "version": 3
   },
   "file_extension": ".py",
   "mimetype": "text/x-python",
   "name": "python",
   "nbconvert_exporter": "python",
   "pygments_lexer": "ipython3",
   "version": "3.9.12"
  }
 },
 "nbformat": 4,
 "nbformat_minor": 2
}
