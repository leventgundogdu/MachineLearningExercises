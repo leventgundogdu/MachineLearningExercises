{
 "cells": [
  {
   "cell_type": "markdown",
   "metadata": {},
   "source": [
    "### Hierarchical Clustering\n",
    "\n",
    "Hierarchical clustering is an unsupervised learning method for clustering data points. The algorithm builds clusters by measuring the dissimilarities between data. Unsupervised learning means that a model does not have to be trained, and we do not need a \"target\" variable. This method can be used on any data to visualize and interpret the relationship between individual data points.\n",
    "\n",
    "Here we will use hierarchical clustering to group data points and visualize the clusters using both a dendrogram and scatter plot.\n",
    "\n",
    "The link https://cs.wmich.edu/alfuqaha/summer14/cs6530/lectures/ClusteringAnalysis.pdf has useful information and examples about hierarchical clustering.\n",
    "\n",
    "### How does it work?\n",
    "\n",
    "We will use Agglomerative Clustering, a type of hierarchical clustering that follows a bottom up approach. We begin by treating each data point as its own cluster. Then, we join clusters together that have the shortest distance between them to create larger clusters. This step is repeated until one large cluster is formed containing all of the data points.\n",
    "\n",
    "Hierarchical clustering requires us to decide on both a distance and linkage method. We will use euclidean distance and the Ward linkage method, which attempts to minimize the variance between clusters."
   ]
  },
  {
   "cell_type": "code",
   "execution_count": 2,
   "metadata": {},
   "outputs": [
    {
     "data": {
      "image/png": "[encoded data removed]",
      "text/plain": [
       "<Figure size 432x288 with 1 Axes>"
      ]
     },
     "metadata": {
      "needs_background": "light"
     },
     "output_type": "display_data"
    }
   ],
   "source": [
    "import numpy as np\n",
    "import matplotlib.pyplot as plt\n",
    "\n",
    "x = [4, 5, 10, 4, 3, 11, 14 , 6, 10, 12]\n",
    "y = [21, 19, 24, 17, 16, 25, 24, 22, 21, 21]\n",
    "# Note that while we only two variables here (x and y), this method will work with any number of variables.\n",
    "\n",
    "plt.scatter(x, y)\n",
    "plt.show()"
   ]
  },
  {
   "cell_type": "code",
   "execution_count": 4,
   "metadata": {},
   "outputs": [
    {
     "name": "stdout",
     "output_type": "stream",
     "text": [
      "[(4, 21), (5, 19), (10, 24), (4, 17), (3, 16), (11, 25), (14, 24), (6, 22), (10, 21), (12, 21)]\n"
     ]
    },
    {
     "data": {
      "image/png": "[encoded data removed]",
      "text/plain": [
       "<Figure size 432x288 with 1 Axes>"
      ]
     },
     "metadata": {
      "needs_background": "light"
     },
     "output_type": "display_data"
    }
   ],
   "source": [
    "# Now we compute the ward linkage using euclidean distance, and visualize it using a dendrogram:\n",
    "\n",
    "from scipy.cluster.hierarchy import dendrogram, linkage\n",
    "\n",
    "data = list(zip(x, y)) # Turn the data into a set of points\n",
    "\n",
    "print (data)\n",
    "\n",
    "linkage_data = linkage(data, method='ward', metric='euclidean') # Compute the linkage between all of the different points.\n",
    "#Here we use a simple euclidean distance measure and Ward's linkage, which seeks to minimize the variance between clusters.\n",
    "\n",
    "dendrogram(linkage_data) # x axis numbers in the dendrogram are the index numbers of data list\n",
    "# Finally, plot the results in a dendrogram. This plot will show us the hierarchy of clusters from the bottom\n",
    "# (individual points) to the top (a single cluster consisting of all data points).\n",
    "\n",
    "plt.show() # lets us visualize the dendrogram instead of just the raw linkage data."
   ]
  },
  {
   "cell_type": "code",
   "execution_count": 6,
   "metadata": {},
   "outputs": [
    {
     "name": "stdout",
     "output_type": "stream",
     "text": [
      "[0 0 1 0 0 1 1 0 1 1]\n"
     ]
    },
    {
     "data": {
      "image/png": "[encoded data removed]",
      "text/plain": [
       "<Figure size 432x288 with 1 Axes>"
      ]
     },
     "metadata": {
      "needs_background": "light"
     },
     "output_type": "display_data"
    }
   ],
   "source": [
    "# Next, we do the same thing with Python's scikit-learn library. Then, visualize on a 2-dimensional plot.\n",
    "\n",
    "from sklearn.cluster import AgglomerativeClustering\n",
    "# AgglomerativeClustering recursively merges pair of clusters of sample data; uses linkage distance.\n",
    "# The scikit-learn library allows us to use hierarchichal clustering in a different manner. \n",
    "\n",
    "# First, we initialize the AgglomerativeClustering class with 2 clusters, using the same euclidean distance and Ward linkage.\n",
    "hierarchical_cluster = AgglomerativeClustering(n_clusters=2, affinity='euclidean', linkage='ward')\n",
    "\n",
    "# The .fit_predict method can be called on our data to compute the clusters using the defined parameters \n",
    "# across our chosen number of clusters.\n",
    "labels = hierarchical_cluster.fit_predict(data)\n",
    "print(labels) # Indexes 0, 1, 3, 4 and 7 will be labeled in a color. Indexes 2, 5, 6, 8 and 9 will be labeled in another color.\n",
    "\n",
    "plt.scatter(x, y, c=labels) # Scatter plots with a legend\n",
    "plt.show()"
   ]
  },
  {
   "cell_type": "code",
   "execution_count": null,
   "metadata": {},
   "outputs": [],
   "source": []
  }
 ],
 "metadata": {
  "kernelspec": {
   "display_name": "Python 3 (ipykernel)",
   "language": "python",
   "name": "python3"
  },
  "language_info": {
   "codemirror_mode": {
    "name": "ipython",
    "version": 3
   },
   "file_extension": ".py",
   "mimetype": "text/x-python",
   "name": "python",
   "nbconvert_exporter": "python",
   "pygments_lexer": "ipython3",
   "version": "3.9.12"
  }
 },
 "nbformat": 4,
 "nbformat_minor": 2
}
