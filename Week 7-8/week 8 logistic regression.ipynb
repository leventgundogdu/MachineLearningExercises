{
 "cells": [
  {
   "cell_type": "markdown",
   "id": "53110b72",
   "metadata": {},
   "source": [
    "### Logistic Regression\n",
    "\n",
    "Logistic regression aims to solve classification problems. It does this by predicting categorical outcomes, unlike linear regression that predicts a continuous outcome.\n",
    "\n",
    "In the simplest case there are two outcomes, which is called binomial, an example of which is predicting if a tumor is malignant or benign. Other cases have more than two outcomes to classify, in this case it is called multinomial. A common example for multinomial logistic regression would be predicting the class of an iris flower between 3 different species.\n",
    "\n",
    "Here we will be using basic logistic regression to predict a binomial variable. This means it has only two possible outcomes.\n",
    "\n",
    "In Python we have modules that will do the work for us. Start by importing the NumPy module."
   ]
  },
  {
   "cell_type": "code",
   "execution_count": 1,
   "id": "714bf406",
   "metadata": {},
   "outputs": [],
   "source": [
    "import numpy"
   ]
  },
  {
   "cell_type": "markdown",
   "id": "066ff34a",
   "metadata": {},
   "source": [
    "Store the independent variables in X.\n",
    "\n",
    "Store the dependent variable in y.\n",
    "\n",
    "Below is a sample dataset:"
   ]
  },
  {
   "cell_type": "code",
   "execution_count": 2,
   "id": "a6f75eef",
   "metadata": {},
   "outputs": [
    {
     "name": "stdout",
     "output_type": "stream",
     "text": [
      "array X after being reshaped into 1 column and 12 rows (12, 1) is:\n",
      " [[3.78]\n",
      " [2.44]\n",
      " [2.09]\n",
      " [0.14]\n",
      " [1.72]\n",
      " [1.65]\n",
      " [4.92]\n",
      " [4.37]\n",
      " [4.96]\n",
      " [4.52]\n",
      " [3.69]\n",
      " [5.88]]\n",
      "\n",
      " y is: \n",
      " [0 0 0 0 0 0 1 1 1 1 1 1]\n"
     ]
    }
   ],
   "source": [
    "#X represents the size of a tumor in centimeters.\n",
    "X = numpy.array([3.78, 2.44, 2.09, 0.14, 1.72, 1.65, 4.92, 4.37, 4.96, 4.52, 3.69, 5.88]).reshape(-1,1)\n",
    "\n",
    "#Note: X has to be reshaped into a column from a row for the LogisticRegression() function to work.\n",
    "# For more information about reshape, see https://stackoverflow.com/questions/18691084/what-does-1-mean-in-numpy-reshape\n",
    "print (\"array X after being reshaped into 1 column and 12 rows (12, 1) is:\\n\", X)\n",
    "\n",
    "#y represents whether or not the tumor is cancerous (0 for \"No\", 1 for \"Yes\").\n",
    "y = numpy.array([0, 0, 0, 0, 0, 0, 1, 1, 1, 1, 1, 1])\n",
    "print (\"\\n y is: \\n\", y)"
   ]
  },
  {
   "cell_type": "markdown",
   "id": "e342153c",
   "metadata": {},
   "source": [
    "We will use a method from the sklearn module, so we will have to import that module as well:"
   ]
  },
  {
   "cell_type": "code",
   "execution_count": 3,
   "id": "7980e2e6",
   "metadata": {},
   "outputs": [],
   "source": [
    "from sklearn import linear_model"
   ]
  },
  {
   "cell_type": "markdown",
   "id": "0b37878a",
   "metadata": {},
   "source": [
    "From the sklearn module we will use the LogisticRegression() method to create a logistic regression object.\n",
    "\n",
    "This object has a method called fit() that takes the independent and dependent values as parameters and fills the regression object with data that describes the relationship:"
   ]
  },
  {
   "cell_type": "code",
   "execution_count": 4,
   "id": "bd7634f7",
   "metadata": {},
   "outputs": [
    {
     "data": {
      "text/plain": [
       "LogisticRegression()"
      ]
     },
     "execution_count": 4,
     "metadata": {},
     "output_type": "execute_result"
    }
   ],
   "source": [
    "logr = linear_model.LogisticRegression()\n",
    "logr.fit(X,y)"
   ]
  },
  {
   "cell_type": "markdown",
   "id": "160bc2d4",
   "metadata": {},
   "source": [
    "Now we have a logistic regression object that is ready to whether a tumor is cancerous based on the tumor size:"
   ]
  },
  {
   "cell_type": "code",
   "execution_count": 5,
   "id": "731c475f",
   "metadata": {},
   "outputs": [
    {
     "name": "stdout",
     "output_type": "stream",
     "text": [
      "The result is: [0]\n",
      "[0] means tumor is not cancerous\n",
      "[1] means tumor is cancerous\n"
     ]
    }
   ],
   "source": [
    "#predict if tumor is cancerous where the size is 3.46mm:\n",
    "predicted = logr.predict(numpy.array([3.46]).reshape(-1,1))# An array of one column and one row that has the value of 3.46\n",
    "# will be fed into the predict function of logistic regression object logr to find the corresponding result value.\n",
    "\n",
    "print(\"The result is:\", predicted)\n",
    "print (\"[0] means tumor is not cancerous\")\n",
    "print (\"[1] means tumor is cancerous\")"
   ]
  },
  {
   "cell_type": "markdown",
   "id": "dbf0fd0c",
   "metadata": {},
   "source": [
    "We have predicted that a tumor with a size of 3.46mm will not be cancerous."
   ]
  },
  {
   "cell_type": "markdown",
   "id": "a5680672",
   "metadata": {},
   "source": [
    "#### Coefficient\n",
    "\n",
    "In logistic regression the coefficient is the expected change in log-odds of having the outcome per unit change in X.\n",
    "\n",
    "For more information about odds, log-odds and the Logit Function, see https://towardsdatascience.com/https-towardsdatascience-com-what-and-why-of-log-odds-64ba988bf704\n",
    "\n",
    "Odds are the ratio of something happening to something not happening. Whereas, Probability is the ratio of something happening to everything that could happen. Log Odds is nothing but log of odds, i.e., log(odds). \n",
    "\n",
    "the Logit Function, which is the basis for one of the most commonly used machine learning algorithms, Logistic Regression is Logit Function = log (p / (1-p))\n",
    "\n",
    "#### Probability\n",
    "The coefficient and intercept values can be used to find the probability that each tumor is cancerous.\n",
    "\n",
    "Create a function that uses the model's coefficient and intercept values to return a new value. This new value represents probability that the given observation is a tumor.\n",
    "\n",
    "Let's see an example."
   ]
  },
  {
   "cell_type": "code",
   "execution_count": 6,
   "id": "011e4112",
   "metadata": {},
   "outputs": [],
   "source": [
    "def logit2prob(logr,x):\n",
    "  log_odds = logr.coef_ * x + logr.intercept_ # To find the log-odds for each observation, we must first create a formula \n",
    "  #that looks similar to the one from linear regression, extracting the coefficient and the intercept.\n",
    "  \n",
    "  #For more information about coef_ and intercept_\n",
    "  # see https://scikit-learn.org/stable/modules/generated/sklearn.linear_model.LogisticRegression.html\n",
    "\n",
    "  odds = numpy.exp(log_odds) # To then convert the log-odds to odds we must exponentiate the log-odds.\n",
    "  probability = odds / (1 + odds) #Now that we have the odds, we can convert it to probability by dividing it by 1 plus the odds.\n",
    "  return(probability)"
   ]
  },
  {
   "cell_type": "markdown",
   "id": "ec2e8be8",
   "metadata": {},
   "source": [
    "Let us now use the function with what we have learned to find out the probability that each tumor is cancerous."
   ]
  },
  {
   "cell_type": "code",
   "execution_count": 8,
   "id": "44ddac3f",
   "metadata": {},
   "outputs": [
    {
     "name": "stdout",
     "output_type": "stream",
     "text": [
      "[[0.60749955]\n",
      " [0.19268876]\n",
      " [0.12775886]\n",
      " [0.00955221]\n",
      " [0.08038616]\n",
      " [0.07345637]\n",
      " [0.88362743]\n",
      " [0.77901378]\n",
      " [0.88924409]\n",
      " [0.81293497]\n",
      " [0.57719129]\n",
      " [0.96664243]]\n"
     ]
    }
   ],
   "source": [
    "print(logit2prob(logr, X))"
   ]
  },
  {
   "cell_type": "markdown",
   "id": "f12977bb",
   "metadata": {},
   "source": [
    "#### Results Explained:\n",
    "\n",
    "3.78 -- 0.61 -> The probability that a tumor with the size 3.78cm is cancerous is 61%.\n",
    "\n",
    "2.44 -- 0.19 -> The probability that a tumor with the size 2.44cm is cancerous is 19%.\n",
    "\n",
    "2.09 -- 0.13 -> The probability that a tumor with the size 2.09cm is cancerous is 13%."
   ]
  }
 ],
 "metadata": {
  "kernelspec": {
   "display_name": "Python 3 (ipykernel)",
   "language": "python",
   "name": "python3"
  },
  "language_info": {
   "codemirror_mode": {
    "name": "ipython",
    "version": 3
   },
   "file_extension": ".py",
   "mimetype": "text/x-python",
   "name": "python",
   "nbconvert_exporter": "python",
   "pygments_lexer": "ipython3",
   "version": "3.9.12"
  }
 },
 "nbformat": 4,
 "nbformat_minor": 5
}
