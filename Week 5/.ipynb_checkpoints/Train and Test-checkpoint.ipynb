{
 "cells": [
  {
   "cell_type": "markdown",
   "id": "40a58ada",
   "metadata": {},
   "source": [
    "### Evaluate Your Model\n",
    "\n",
    "In Machine Learning we create models to predict the outcome of certain events, like in the previous chapter where we predicted the CO2 emission of a car when we knew the weight and engine size.\n",
    "\n",
    "To measure if the model is good enough, we can use a method called Train/Test.\n",
    "\n",
    "### What is Train/Test\n",
    "\n",
    "Train/Test is a method to measure the accuracy of your model.\n",
    "\n",
    "It is called Train/Test because you split the the data set into two sets: a training set and a testing set.\n",
    "\n",
    "80% for training, and 20% for testing.\n",
    "\n",
    "You train the model using the training set.\n",
    "\n",
    "You test the model using the testing set.\n",
    "\n",
    "Train the model means create the model.\n",
    "\n",
    "Test the model means test the accuracy of the model.\n",
    "\n",
    "### Start With a Data Set\n",
    "\n",
    "Start with a data set you want to test.\n",
    "\n",
    "Our data set illustrates 100 customers in a shop, and their shopping habits."
   ]
  },
  {
   "cell_type": "code",
   "execution_count": 1,
   "id": "ae7afbbb",
   "metadata": {},
   "outputs": [
    {
     "data": {
      "text/plain": [
       "<Figure size 640x480 with 1 Axes>"
      ]
     },
     "metadata": {},
     "output_type": "display_data"
    }
   ],
   "source": [
    "import numpy\n",
    "import matplotlib.pyplot as plt\n",
    "numpy.random.seed(2)\n",
    "\n",
    "x = numpy.random.normal(3, 1, 100) # Mean value is 3, standard deviation is 1, give me 100 normally distributed values.\n",
    "y = numpy.random.normal(150, 40, 100) / x # Mean value is 150, standard deviation is 40, give me 100 normally distributed values.\n",
    "                                        # Be aware of \"/x\" part at the end!\n",
    "#print (x)\n",
    "#print (y)\n",
    "    \n",
    "plt.scatter(x, y)\n",
    "plt.show()\n",
    "\n",
    "#The seed() method is used to initialize the random number generator.\n",
    "#The random number generator needs a number to start with (a seed value), to be able to generate a random number.\n",
    "#By default the random number generator uses the current system time.\n",
    "#Use the seed() method to customize the start number of the random number generator.\n",
    "#Note: If you use the same seed value twice you will get the same random number twice."
   ]
  },
  {
   "cell_type": "markdown",
   "id": "acdbcf0d",
   "metadata": {},
   "source": [
    "### Result:\n",
    "\n",
    "The x axis represents the number of minutes before making a purchase.\n",
    "\n",
    "The y axis represents the amount of money spent on the purchase.\n",
    "\n",
    "### Split Into Train/Test\n",
    "\n",
    "The training set should be a random selection of 80% of the original data.\n",
    "\n",
    "The testing set should be the remaining 20%."
   ]
  },
  {
   "cell_type": "code",
   "execution_count": 2,
   "id": "ca0792ce",
   "metadata": {},
   "outputs": [],
   "source": [
    "train_x = x[:80] # https://openbookproject.net/thinkcs/python/english3e/lists.html\n",
    "train_y = y[:80]\n",
    "\n",
    "test_x = x[80:]\n",
    "test_y = y[80:]"
   ]
  },
  {
   "cell_type": "markdown",
   "id": "6cc52691",
   "metadata": {},
   "source": [
    "### Display the Training Set\n",
    "\n",
    "Display the same scatter plot with the training set:"
   ]
  },
  {
   "cell_type": "code",
   "execution_count": 3,
   "id": "82382e7d",
   "metadata": {},
   "outputs": [
    {
     "data": {
      "image/png": "[encoded data removed]",
      "text/plain": [
       "<Figure size 432x288 with 1 Axes>"
      ]
     },
     "metadata": {
      "needs_background": "light"
     },
     "output_type": "display_data"
    }
   ],
   "source": [
    "plt.scatter(train_x, train_y)\n",
    "plt.show() # The result looks like the original data set, so it seems to be a fair selection."
   ]
  },
  {
   "cell_type": "markdown",
   "id": "5110367a",
   "metadata": {},
   "source": [
    "### Display the Testing Set\n",
    "\n",
    "To make sure the testing set is not completely different, we will take a look at the testing set as well."
   ]
  },
  {
   "cell_type": "code",
   "execution_count": 4,
   "id": "56903017",
   "metadata": {},
   "outputs": [
    {
     "data": {
      "image/png": "[encoded data removed]",
      "text/plain": [
       "<Figure size 432x288 with 1 Axes>"
      ]
     },
     "metadata": {
      "needs_background": "light"
     },
     "output_type": "display_data"
    }
   ],
   "source": [
    "plt.scatter(test_x, test_y)\n",
    "plt.show() # Result of the testing set also looks like the original data set."
   ]
  },
  {
   "cell_type": "markdown",
   "id": "bc7d9629",
   "metadata": {},
   "source": [
    "### Fit the Data Set\n",
    "\n",
    "What does the data set look like? The best fit would be a polynomial regression, so let us draw a line of polynomial regression.\n",
    "\n",
    "To draw a line through the data points, we use the plot() method of the matplotlib module:\n",
    "\n",
    "Draw a polynomial regression line through the data points."
   ]
  },
  {
   "cell_type": "code",
   "execution_count": 5,
   "id": "62d0c951",
   "metadata": {},
   "outputs": [
    {
     "data": {
      "image/png": "[encoded data removed]",
      "text/plain": [
       "<Figure size 432x288 with 1 Axes>"
      ]
     },
     "metadata": {
      "needs_background": "light"
     },
     "output_type": "display_data"
    }
   ],
   "source": [
    "mymodel = numpy.poly1d(numpy.polyfit(train_x, train_y, 4))\n",
    "\n",
    "myline = numpy.linspace(0, 6, 100)\n",
    "\n",
    "plt.scatter(train_x, train_y)\n",
    "plt.plot(myline, mymodel(myline))\n",
    "plt.show()"
   ]
  },
  {
   "cell_type": "markdown",
   "id": "7d4c3bba",
   "metadata": {},
   "source": [
    "The result can back the suggestion of the data set fitting a polynomial regression, even though it would give us some weird results if we try to predict values outside of the data set. Example: the line indicates that a customer spending 6 minutes in the shop would make a purchase worth 200. That is probably a sign of overfitting.\n",
    "\n",
    "But what about the R-squared score? The R-squared score is a good indicator of how well my data set is fitting the model.\n",
    "\n",
    "### R2\n",
    "Remember R2, also known as R-squared?\n",
    "\n",
    "It measures the relationship between the x axis and the y axis, and the value ranges from 0 to 1, where 0 means no relationship, and 1 means totally related.\n",
    "\n",
    "The sklearn module has a method called r2_score() that will help us find this relationship.\n",
    "\n",
    "In this case we would like to measure the relationship between the minutes a customer stays in the shop and how much money they spend.\n",
    "\n",
    "### Example\n",
    "How well does my training data fit in a polynomial regression?"
   ]
  },
  {
   "cell_type": "code",
   "execution_count": 6,
   "id": "a9ad4a4a",
   "metadata": {},
   "outputs": [
    {
     "name": "stdout",
     "output_type": "stream",
     "text": [
      "0.7988645544629795\n"
     ]
    }
   ],
   "source": [
    "from sklearn.metrics import r2_score\n",
    "\n",
    "r2 = r2_score(train_y, mymodel(train_x))\n",
    "\n",
    "print(r2)"
   ]
  },
  {
   "cell_type": "markdown",
   "id": "ec188c1e",
   "metadata": {},
   "source": [
    "Note that the result 0.799 shows that there is a OK relationship.\n",
    "\n",
    "### Bring in the Testing Set\n",
    "\n",
    "Now we have made a model that is OK, at least when it comes to training data.\n",
    "\n",
    "Now we want to test the model with the testing data as well, to see if gives us the same result.\n",
    "\n",
    "### Example\n",
    "\n",
    "Let us find the R2 score when using testing data:"
   ]
  },
  {
   "cell_type": "code",
   "execution_count": 7,
   "id": "4b1b4073",
   "metadata": {},
   "outputs": [
    {
     "name": "stdout",
     "output_type": "stream",
     "text": [
      "0.8086921460343696\n"
     ]
    }
   ],
   "source": [
    "r2_test = r2_score(test_y, mymodel(test_x))\n",
    "\n",
    "print(r2_test)"
   ]
  },
  {
   "cell_type": "markdown",
   "id": "ffde578d",
   "metadata": {},
   "source": [
    "Note that the result 0.809 shows that the model fits the testing set as well, and we are confident that we can use the model to predict future values.\n",
    "\n",
    "### Predict Values\n",
    "\n",
    "Now that we have established that our model is OK, we can start predicting new values.\n",
    "\n",
    "### Example: \n",
    "How much money will a buying customer spend, if she or he stays in the shop for 5 minutes?"
   ]
  },
  {
   "cell_type": "code",
   "execution_count": 8,
   "id": "c8d2d31f",
   "metadata": {},
   "outputs": [
    {
     "name": "stdout",
     "output_type": "stream",
     "text": [
      "The customer will spend 22.87962591812243 $. if she or he stays in the shop for 5 minutes\n"
     ]
    }
   ],
   "source": [
    "print(\"The customer will spend\", mymodel(5), \"$. if she or he stays in the shop for 5 minutes\")"
   ]
  },
  {
   "cell_type": "markdown",
   "id": "5111d7e1",
   "metadata": {},
   "source": [
    "The example predicted the customer to spend 22.88 dollars, as seems to correspond to the diagram."
   ]
  }
 ],
 "metadata": {
  "kernelspec": {
   "display_name": "Python 3 (ipykernel)",
   "language": "python",
   "name": "python3"
  },
  "language_info": {
   "codemirror_mode": {
    "name": "ipython",
    "version": 3
   },
   "file_extension": ".py",
   "mimetype": "text/x-python",
   "name": "python",
   "nbconvert_exporter": "python",
   "pygments_lexer": "ipython3",
   "version": "3.9.12"
  }
 },
 "nbformat": 4,
 "nbformat_minor": 5
}
