{
 "cells": [
  {
   "cell_type": "markdown",
   "metadata": {},
   "source": [
    "### Scale:\n",
    "\n",
    "When your data has different values, and even different measurement units, it can be difficult to compare them. What is kilograms compared to meters? Or altitude compared to time?\n",
    "\n",
    "The answer to this problem is scaling. We can scale data into new values that are easier to compare.\n",
    "\n",
    "Take a look at the table below, it is the same data set that we used in the multiple regression chapter, but this time the volume column contains values in liters instead of cm3 (1.0 instead of 1000).\n",
    "\n",
    "It can be difficult to compare the volume 1.0 with the weight 790 for the first row of data set, but if we scale them both into comparable values, we can easily see how much one value is compared to the other.\n",
    "\n",
    "There are different methods for scaling data, we will use a method called standardization.\n",
    "\n",
    "The standardization method uses this formula:\n",
    "\n",
    "z = (x - u) / s\n",
    "\n",
    "Where z is the new value, x is the original value, u is the mean and s is the standard deviation.\n",
    "\n",
    "If you take the weight column from the data set above, the first value is 790, and the scaled value will be:\n",
    "\n",
    "(790 - 1292.23) / 238.74 = -2.1\n",
    "\n",
    "\n",
    "If you take the volume column from the data set above, the first value is 1.0, and the scaled value will be:\n",
    "\n",
    "(1.0 - 1.61) / 0.38 = -1.59\n",
    "\n",
    "Now you can compare -2.1 with -1.59 instead of comparing 790 with 1.0.\n",
    "\n",
    "You do not have to do this manually, the Python sklearn module has a method called StandardScaler() which returns a Scaler object with methods for transforming data sets.\n",
    "\n",
    "#### Example:\n",
    "\n",
    "Scale all values in the Weight and Volume columns:"
   ]
  },
  {
   "cell_type": "code",
   "execution_count": 1,
   "metadata": {},
   "outputs": [
    {
     "name": "stdout",
     "output_type": "stream",
     "text": [
      "[[-2.10367113 -1.59336644]\n",
      " [-0.55358542 -1.07190106]\n",
      " [-1.52134163 -1.59336644]\n",
      " [-1.78946457 -1.85409913]\n",
      " [-0.63737383 -0.28970299]\n",
      " [-1.52134163 -1.59336644]\n",
      " [-0.76724588 -0.55043568]\n",
      " [ 0.30524586 -0.28970299]\n",
      " [-0.75467762 -0.28970299]\n",
      " [-0.59547962 -0.0289703 ]\n",
      " [-1.30768117 -1.33263375]\n",
      " [-1.26578696 -0.81116837]\n",
      " [-0.75467762 -1.59336644]\n",
      " [-0.1681587  -0.0289703 ]\n",
      " [ 0.14185844 -0.0289703 ]\n",
      " [ 0.15861613 -0.0289703 ]\n",
      " [ 0.28429875 -0.0289703 ]\n",
      " [-0.05085491  1.53542584]\n",
      " [-0.72535167 -0.0289703 ]\n",
      " [ 0.15023729  1.01396046]\n",
      " [ 1.22272902 -0.0289703 ]\n",
      " [ 0.56917937  1.01396046]\n",
      " [ 0.30524586  1.27469315]\n",
      " [ 0.5147169  -0.0289703 ]\n",
      " [ 0.5147169   1.01396046]\n",
      " [ 0.72418794 -0.28970299]\n",
      " [ 0.82892346  1.01396046]\n",
      " [ 1.81343736  1.01396046]\n",
      " [ 0.96717435 -0.0289703 ]\n",
      " [ 1.72964895  1.01396046]\n",
      " [ 1.31070686  1.27469315]\n",
      " [ 1.9014152   1.01396046]\n",
      " [-0.23937885 -0.0289703 ]\n",
      " [ 0.40998138 -0.0289703 ]\n",
      " [ 0.47282269 -0.0289703 ]\n",
      " [ 0.43092848  2.31762392]]\n"
     ]
    }
   ],
   "source": [
    "import pandas\n",
    "from sklearn import linear_model\n",
    "from sklearn.preprocessing import StandardScaler\n",
    "\n",
    "scale = StandardScaler() # Standardize features by removing the mean and scaling to unit variance.\n",
    "\n",
    "df = pandas.read_csv(\"data_for_scale.csv\")\n",
    "\n",
    "X = df[['Weight', 'Volume']]\n",
    "\n",
    "scaledX = scale.fit_transform(X) # fit_transform(X[, y]) -- Fit to data, then transform it.\n",
    "\n",
    "print(scaledX) # From the result, note that the first two values are -2.1 and -1.59, which corresponds to our calculations above."
   ]
  },
  {
   "cell_type": "markdown",
   "metadata": {},
   "source": [
    "#### Predict CO2 Values:\n",
    "The task in the Multiple Regression chapter was to predict the CO2 emission from a car when you only knew its weight and volume.\n",
    "\n",
    "When the data set is scaled, you will have to use the scale when you predict values.\n",
    "\n",
    "Example: Predict the CO2 emission from a 1.3 liter car that weighs 2300 kilograms."
   ]
  },
  {
   "cell_type": "code",
   "execution_count": 2,
   "metadata": {},
   "outputs": [
    {
     "name": "stdout",
     "output_type": "stream",
     "text": [
      "scaled values for 2300 kg and 1.3 liters are: [[ 4.22235435 -0.81116837]]\n",
      " Predict the CO2 emission from a 1.3 liter car that weighs 2300 kilograms is [107.23612389]\n"
     ]
    },
    {
     "name": "stderr",
     "output_type": "stream",
     "text": [
      "C:\\Users\\tufan.ekin\\Anaconda3\\lib\\site-packages\\sklearn\\base.py:450: UserWarning: X does not have valid feature names, but StandardScaler was fitted with feature names\n",
      "  warnings.warn(\n"
     ]
    }
   ],
   "source": [
    "y = df['CO2'] # This is the dependent variable\n",
    "\n",
    "regr = linear_model.LinearRegression() # This line will create a linear regression object from last week's class.\n",
    "\n",
    "regr.fit(scaledX, y) # This object has a method called fit() that takes the scaled independent\n",
    "                     # and dependent values as parameters and fills the regression object\n",
    "                     # with data that describes the relationship. (from last week)\n",
    "\n",
    "scaled = scale.transform ([[2300, 1.3]]) # transform(X[, copy]) Perform standardization by centering and scaling.\n",
    "print (\"scaled values for 2300 kg and 1.3 liters are:\", scaled)\n",
    "\n",
    "predictedCO2 = regr.predict([scaled[0]])\n",
    "print(\" Predict the CO2 emission from a 1.3 liter car that weighs 2300 kilograms is\", predictedCO2)"
   ]
  },
  {
   "cell_type": "code",
   "execution_count": null,
   "metadata": {},
   "outputs": [],
   "source": []
  }
 ],
 "metadata": {
  "kernelspec": {
   "display_name": "Python 3 (ipykernel)",
   "language": "python",
   "name": "python3"
  },
  "language_info": {
   "codemirror_mode": {
    "name": "ipython",
    "version": 3
   },
   "file_extension": ".py",
   "mimetype": "text/x-python",
   "name": "python",
   "nbconvert_exporter": "python",
   "pygments_lexer": "ipython3",
   "version": "3.9.12"
  }
 },
 "nbformat": 4,
 "nbformat_minor": 2
}