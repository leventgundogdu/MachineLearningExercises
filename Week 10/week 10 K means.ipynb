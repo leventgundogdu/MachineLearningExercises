{
 "cells": [
  {
   "cell_type": "markdown",
   "id": "56ecb96c",
   "metadata": {},
   "source": [
    "### K-means Clustering\n",
    "\n",
    "K-means is an unsupervised learning method for clustering data points. The algorithm iteratively divides data points into K clusters by minimizing the variance in each cluster.\n",
    "\n",
    "Here, we will show you how to estimate the best value for K using the elbow method, then use K-means clustering to group the data points into clusters.\n",
    "\n",
    "### How does it work?\n",
    "\n",
    "First, each data point is randomly assigned to one of the K clusters. Then, we compute the centroid (functionally the center) of each cluster, and reassign each data point to the cluster with the closest centroid. We repeat this process until the cluster assignments for each data point are no longer changing. See the \"Convergence of k-means\" animation at https://en.wikipedia.org/wiki/K-means_clustering.\n",
    "\n",
    "K-means clustering requires us to select K, the number of clusters we want to group the data into. The elbow method lets us graph the inertia (a distance-based metric) and visualize the point at which it starts decreasing linearly. This point is referred to as the \"elbow\" and is a good estimate for the best value for K based on our data.\n",
    "\n",
    "As an example, start by visualizing some data points."
   ]
  },
  {
   "cell_type": "code",
   "execution_count": 3,
   "id": "a716f389",
   "metadata": {},
   "outputs": [
    {
     "data": {
      "image/png": "[encoded data removed]",
      "text/plain": [
       "<Figure size 432x288 with 1 Axes>"
      ]
     },
     "metadata": {
      "needs_background": "light"
     },
     "output_type": "display_data"
    }
   ],
   "source": [
    "import matplotlib.pyplot as plt\n",
    "\n",
    "x = [4, 5, 10, 4, 3, 11, 14 , 6, 10, 12]\n",
    "y = [21, 19, 24, 17, 16, 25, 24, 22, 21, 21]\n",
    "\n",
    "plt.scatter(x, y)\n",
    "plt.show()"
   ]
  },
  {
   "cell_type": "markdown",
   "id": "3831531c",
   "metadata": {},
   "source": [
    "Now we utilize the elbow method to visualize the intertia for different values of K. \n",
    "\n",
    "In order to find the best value for K, we need to run K-means across our data for a range of possible values. We only have 10 data points, so the maximum number of clusters is 10. So for each value K in range(1,11), we train a K-means model and plot the intertia at that number of clusters:"
   ]
  },
  {
   "cell_type": "code",
   "execution_count": 12,
   "id": "c3a94659",
   "metadata": {},
   "outputs": [
    {
     "name": "stderr",
     "output_type": "stream",
     "text": [
      "C:\\Users\\tufan.ekin\\Anaconda3\\lib\\site-packages\\sklearn\\cluster\\_kmeans.py:1036: UserWarning: KMeans is known to have a memory leak on Windows with MKL, when there are less chunks than available threads. You can avoid it by setting the environment variable OMP_NUM_THREADS=1.\n",
      "  warnings.warn(\n"
     ]
    },
    {
     "name": "stdout",
     "output_type": "stream",
     "text": [
      "inertias are: [218.9, 56.4, 32.86666666666667, 19.0, 10.666666666666668, 6.5, 4.0, 2.0, 1.0, 0.0]\n"
     ]
    },
    {
     "data": {
      "image/png": "[encoded data removed]",
      "text/plain": [
       "<Figure size 432x288 with 1 Axes>"
      ]
     },
     "metadata": {
      "needs_background": "light"
     },
     "output_type": "display_data"
    }
   ],
   "source": [
    "from sklearn.cluster import KMeans\n",
    "\n",
    "data = list(zip(x, y)) # Turn the data into a set of points\n",
    "#print (data)\n",
    "\n",
    "inertias = []\n",
    "\n",
    "for i in range(1,11):\n",
    "    kmeans = KMeans(n_clusters=i) # KMeans function has the n_clusters parameter which has the type of int and a default value of 8.\n",
    "                                  # n_clusters is the number of clusters to form as well as the number of centroids to generate.\n",
    "        \n",
    "    kmeans.fit(data)              # fit function computes k-means clustering.\n",
    "    \n",
    "    inertias.append(kmeans.inertia_) # KMeans function has the inertia_ parameter which has the type of float. \n",
    "                                     # inertia_ is the sum of squared distances of samples to their closest cluster center, \n",
    "print (\"inertias are:\", inertias)\n",
    "\n",
    "plt.plot(range(1,11), inertias, marker='o')\n",
    "plt.title('Elbow method')\n",
    "plt.xlabel('Number of clusters')\n",
    "plt.ylabel('Inertia')\n",
    "plt.show()"
   ]
  },
  {
   "cell_type": "markdown",
   "id": "922489c2",
   "metadata": {},
   "source": [
    "The elbow method shows that 2 for the number of clusters is a good value for K. Because, 2 is the point at which inertia starts decreasing linearly. Before the value of 2, inertia decreases vertically (in a very fast way) not linearly. This point (2) is referred to as the \"elbow\" and is a good estimate for the best value for K based on our data.\n",
    "\n",
    "We can see that the \"elbow\" on the graph above (where the interia becomes more linear) is at K=2. We can then fit our K-means algorithm one more time and plot the different clusters assigned to the data."
   ]
  },
  {
   "cell_type": "code",
   "execution_count": 13,
   "id": "66c1c4d5",
   "metadata": {},
   "outputs": [
    {
     "data": {
      "image/png": "[encoded data removed]",
      "text/plain": [
       "<Figure size 432x288 with 1 Axes>"
      ]
     },
     "metadata": {
      "needs_background": "light"
     },
     "output_type": "display_data"
    }
   ],
   "source": [
    "kmeans = KMeans(n_clusters=2)\n",
    "kmeans.fit(data)\n",
    "\n",
    "plt.scatter(x, y, c=kmeans.labels_) # c is the marker colors. kmeans.labels_ means labels of each point in kmeans clustering\n",
    "plt.show()"
   ]
  },
  {
   "cell_type": "code",
   "execution_count": null,
   "id": "15eddac2",
   "metadata": {},
   "outputs": [],
   "source": []
  }
 ],
 "metadata": {
  "kernelspec": {
   "display_name": "Python 3 (ipykernel)",
   "language": "python",
   "name": "python3"
  },
  "language_info": {
   "codemirror_mode": {
    "name": "ipython",
    "version": 3
   },
   "file_extension": ".py",
   "mimetype": "text/x-python",
   "name": "python",
   "nbconvert_exporter": "python",
   "pygments_lexer": "ipython3",
   "version": "3.9.12"
  }
 },
 "nbformat": 4,
 "nbformat_minor": 5
}
