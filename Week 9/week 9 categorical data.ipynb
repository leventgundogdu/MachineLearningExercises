{
 "cells": [
  {
   "cell_type": "markdown",
   "id": "f86c9731",
   "metadata": {},
   "source": [
    "### Categorical Data\n",
    "\n",
    "When your data has categories represented by strings, it will be difficult to use them to train machine learning models which often only accepts numeric data.\n",
    "\n",
    "Instead of ignoring the categorical data and excluding the information from our model, you can tranform the data so it can be used in your models.\n",
    "\n",
    "Take a look at the table below, it is the same data set that we used in the multiple regression chapter."
   ]
  },
  {
   "cell_type": "code",
   "execution_count": 1,
   "id": "cf578b83",
   "metadata": {},
   "outputs": [
    {
     "name": "stdout",
     "output_type": "stream",
     "text": [
      "           Car       Model  Volume  Weight  CO2\n",
      "0       Toyota        Aygo    1000     790   99\n",
      "1   Mitsubishi  Space Star    1200    1160   95\n",
      "2        Skoda      Citigo    1000     929   95\n",
      "3         Fiat         500     900     865   90\n",
      "4         Mini      Cooper    1500    1140  105\n",
      "5           VW         Up!    1000     929  105\n",
      "6        Skoda       Fabia    1400    1109   90\n",
      "7     Mercedes     A-Class    1500    1365   92\n",
      "8         Ford      Fiesta    1500    1112   98\n",
      "9         Audi          A1    1600    1150   99\n",
      "10     Hyundai         I20    1100     980   99\n",
      "11      Suzuki       Swift    1300     990  101\n",
      "12        Ford      Fiesta    1000    1112   99\n",
      "13       Honda       Civic    1600    1252   94\n",
      "14      Hundai         I30    1600    1326   97\n",
      "15        Opel       Astra    1600    1330   97\n",
      "16         BMW           1    1600    1365   99\n",
      "17       Mazda           3    2200    1280  104\n",
      "18       Skoda       Rapid    1600    1119  104\n",
      "19        Ford       Focus    2000    1328  105\n",
      "20        Ford      Mondeo    1600    1584   94\n",
      "21        Opel    Insignia    2000    1428   99\n",
      "22    Mercedes     C-Class    2100    1365   99\n",
      "23       Skoda     Octavia    1600    1415   99\n",
      "24       Volvo         S60    2000    1415   99\n",
      "25    Mercedes         CLA    1500    1465  102\n",
      "26        Audi          A4    2000    1490  104\n",
      "27        Audi          A6    2000    1725  114\n",
      "28       Volvo         V70    1600    1523  109\n",
      "29         BMW           5    2000    1705  114\n",
      "30    Mercedes     E-Class    2100    1605  115\n",
      "31       Volvo        XC70    2000    1746  117\n",
      "32        Ford       B-Max    1600    1235  104\n",
      "33         BMW         216    1600    1390  108\n",
      "34        Opel      Zafira    1600    1405  109\n",
      "35    Mercedes         SLK    2500    1395  120\n"
     ]
    }
   ],
   "source": [
    "import pandas as pd # The pandas module allows us to read csv files and manipulate DataFrame objects.\n",
    "\n",
    "cars = pd.read_csv('data.csv')\n",
    "\n",
    "print(cars.to_string())"
   ]
  },
  {
   "cell_type": "markdown",
   "id": "dc3a567e",
   "metadata": {},
   "source": [
    "In the multiple regression chapter, we tried to predict the CO2 emitted based on the volume of the engine and the weight of the car but we excluded information about the car brand and model.\n",
    "\n",
    "The information about the car brand or the car model might help us make a better prediction of the CO2 emitted.\n",
    "\n",
    "### One Hot Encoding\n",
    "\n",
    "We cannot make use of the Car or Model column in our data since they are not numeric. A linear relationship between a categorical variable, Car or Model, and a numeric variable, CO2, cannot be determined.\n",
    "\n",
    "To fix this issue, we must have a numeric representation of the categorical variable. One way to do this is to have a column representing each group in the category.\n",
    "\n",
    "For each column, the values will be 1 or 0 where 1 represents the inclusion of the group and 0 represents the exclusion. This transformation is called one hot encoding.\n",
    "\n",
    "You do not have to do this manually, the Python Pandas module has a function that is called get_dummies() which does one hot encoding."
   ]
  },
  {
   "cell_type": "code",
   "execution_count": 2,
   "id": "0ab166cb",
   "metadata": {},
   "outputs": [
    {
     "data": {
      "text/html": [
       "<style>.container { width:140% !important; }</style>"
      ],
      "text/plain": [
       "<IPython.core.display.HTML object>"
      ]
     },
     "metadata": {},
     "output_type": "display_data"
    }
   ],
   "source": [
    "# The following two lines are used  to increase the cell width of this Jupyter Notebook file in the browser. So that the output of the next cell will fit in the cell.\n",
    "\n",
    "from IPython.display import display, HTML\n",
    "\n",
    "display(HTML(\"<style>.container { width:140% !important; }</style>\"))"
   ]
  },
  {
   "cell_type": "code",
   "execution_count": 3,
   "id": "fb8cca8a",
   "metadata": {
    "scrolled": true
   },
   "outputs": [
    {
     "name": "stdout",
     "output_type": "stream",
     "text": [
      "    Car_Audi  Car_BMW  Car_Fiat  Car_Ford  Car_Honda  Car_Hundai  Car_Hyundai  Car_Mazda  Car_Mercedes  Car_Mini  Car_Mitsubishi  Car_Opel  Car_Skoda  Car_Suzuki  Car_Toyota  Car_VW  Car_Volvo\n",
      "0          0        0         0         0          0           0            0          0             0         0               0         0          0           0           1       0          0\n",
      "1          0        0         0         0          0           0            0          0             0         0               1         0          0           0           0       0          0\n",
      "2          0        0         0         0          0           0            0          0             0         0               0         0          1           0           0       0          0\n",
      "3          0        0         1         0          0           0            0          0             0         0               0         0          0           0           0       0          0\n",
      "4          0        0         0         0          0           0            0          0             0         1               0         0          0           0           0       0          0\n",
      "5          0        0         0         0          0           0            0          0             0         0               0         0          0           0           0       1          0\n",
      "6          0        0         0         0          0           0            0          0             0         0               0         0          1           0           0       0          0\n",
      "7          0        0         0         0          0           0            0          0             1         0               0         0          0           0           0       0          0\n",
      "8          0        0         0         1          0           0            0          0             0         0               0         0          0           0           0       0          0\n",
      "9          1        0         0         0          0           0            0          0             0         0               0         0          0           0           0       0          0\n",
      "10         0        0         0         0          0           0            1          0             0         0               0         0          0           0           0       0          0\n",
      "11         0        0         0         0          0           0            0          0             0         0               0         0          0           1           0       0          0\n",
      "12         0        0         0         1          0           0            0          0             0         0               0         0          0           0           0       0          0\n",
      "13         0        0         0         0          1           0            0          0             0         0               0         0          0           0           0       0          0\n",
      "14         0        0         0         0          0           1            0          0             0         0               0         0          0           0           0       0          0\n",
      "15         0        0         0         0          0           0            0          0             0         0               0         1          0           0           0       0          0\n",
      "16         0        1         0         0          0           0            0          0             0         0               0         0          0           0           0       0          0\n",
      "17         0        0         0         0          0           0            0          1             0         0               0         0          0           0           0       0          0\n",
      "18         0        0         0         0          0           0            0          0             0         0               0         0          1           0           0       0          0\n",
      "19         0        0         0         1          0           0            0          0             0         0               0         0          0           0           0       0          0\n",
      "20         0        0         0         1          0           0            0          0             0         0               0         0          0           0           0       0          0\n",
      "21         0        0         0         0          0           0            0          0             0         0               0         1          0           0           0       0          0\n",
      "22         0        0         0         0          0           0            0          0             1         0               0         0          0           0           0       0          0\n",
      "23         0        0         0         0          0           0            0          0             0         0               0         0          1           0           0       0          0\n",
      "24         0        0         0         0          0           0            0          0             0         0               0         0          0           0           0       0          1\n",
      "25         0        0         0         0          0           0            0          0             1         0               0         0          0           0           0       0          0\n",
      "26         1        0         0         0          0           0            0          0             0         0               0         0          0           0           0       0          0\n",
      "27         1        0         0         0          0           0            0          0             0         0               0         0          0           0           0       0          0\n",
      "28         0        0         0         0          0           0            0          0             0         0               0         0          0           0           0       0          1\n",
      "29         0        1         0         0          0           0            0          0             0         0               0         0          0           0           0       0          0\n",
      "30         0        0         0         0          0           0            0          0             1         0               0         0          0           0           0       0          0\n",
      "31         0        0         0         0          0           0            0          0             0         0               0         0          0           0           0       0          1\n",
      "32         0        0         0         1          0           0            0          0             0         0               0         0          0           0           0       0          0\n",
      "33         0        1         0         0          0           0            0          0             0         0               0         0          0           0           0       0          0\n",
      "34         0        0         0         0          0           0            0          0             0         0               0         1          0           0           0       0          0\n",
      "35         0        0         0         0          0           0            0          0             1         0               0         0          0           0           0       0          0\n"
     ]
    }
   ],
   "source": [
    "ohe_cars = pd.get_dummies(cars[['Car']]) # Convert categorical variable into dummy/indicator variables.\n",
    "# For additional information about get_dummies function, see https://pandas.pydata.org/pandas-docs/stable/reference/api/pandas.get_dummies.html\n",
    "\n",
    "print(ohe_cars.to_string())"
   ]
  },
  {
   "cell_type": "markdown",
   "id": "47d3d695",
   "metadata": {},
   "source": [
    "As a result, a column was created for every car brand in the Car column.\n",
    "\n",
    "### Predict CO2\n",
    "\n",
    "We can use this additional information alongside the volume and weight to predict CO2.\n",
    "\n",
    "To combine the information, we can use the concat() function from pandas module. concat() function concatenates pandas objects along a particular axis.\n",
    "\n",
    "Then we must select the independent variables (X) and add the dummy variables columnwise.\n",
    "\n",
    "Also store the dependent variable in y."
   ]
  },
  {
   "cell_type": "code",
   "execution_count": 9,
   "id": "7f7e7bbf",
   "metadata": {},
   "outputs": [
    {
     "name": "stdout",
     "output_type": "stream",
     "text": [
      "[110.06989491]\n"
     ]
    }
   ],
   "source": [
    "X = pd.concat([cars[['Volume', 'Weight']], ohe_cars], axis=1)\n",
    "\n",
    "y = cars['CO2']\n",
    "\n",
    "# We also need to import a method from sklearn to create a linear model.\n",
    "\n",
    "from sklearn import linear_model\n",
    "\n",
    "# Now we can fit the data to a linear regression.\n",
    "\n",
    "regr = linear_model.LinearRegression()\n",
    "\n",
    "regr.fit(X.values,y)\n",
    "\n",
    "# Finally we can predict the CO2 emissions based on the car's weight, volume and manufacturer.\n",
    "# Predict the CO2 emission of a Volvo where the weight is 2300kg, and the volume is 1300cm3:\n",
    "\n",
    "predictedCO2 = regr.predict([[2300, 1300,0,0,0,0,0,0,0,0,0,0,0,0,0,0,0,0,1]])\n",
    "\n",
    "print(predictedCO2)"
   ]
  },
  {
   "cell_type": "code",
   "execution_count": 5,
   "id": "8439e350",
   "metadata": {},
   "outputs": [],
   "source": [
    "# We now have a coefficient for the volume, the weight, and each car brand in the data set.\n",
    "\n",
    "# print(regr.coef_)"
   ]
  },
  {
   "cell_type": "markdown",
   "id": "fca2cbd1",
   "metadata": {},
   "source": [
    "### Dummifying\n",
    "\n",
    "It is not necessary to create one column for each group in your category. The information can be retained using 1 column less than the number of groups you have.\n",
    "\n",
    "For example, you have a column representing colors and in that column, you have two colors, red and blue."
   ]
  },
  {
   "cell_type": "code",
   "execution_count": 6,
   "id": "bee3130a",
   "metadata": {},
   "outputs": [
    {
     "name": "stdout",
     "output_type": "stream",
     "text": [
      "  color\n",
      "0  blue\n",
      "1   red\n"
     ]
    }
   ],
   "source": [
    "colors = pd.DataFrame({'color': ['blue', 'red']}) # Constructing DataFrame from a dictionary. For additional information, see the example at https://pandas.pydata.org/pandas-docs/stable/reference/api/pandas.DataFrame.html\n",
    "\n",
    "print(colors)"
   ]
  },
  {
   "cell_type": "markdown",
   "id": "06bb3946",
   "metadata": {},
   "source": [
    "You can create 1 column called red where 1 represents red and 0 represents not red, which means it is blue.\n",
    "\n",
    "To do this, we can use the same function that we used for one hot encoding, get_dummies, and then drop one of the columns. There is an argument, drop_first, which allows us to exclude the first column from the resulting table."
   ]
  },
  {
   "cell_type": "code",
   "execution_count": 7,
   "id": "1e8644e4",
   "metadata": {},
   "outputs": [
    {
     "name": "stdout",
     "output_type": "stream",
     "text": [
      "   color_red\n",
      "0          0\n",
      "1          1\n"
     ]
    }
   ],
   "source": [
    "dummies = pd.get_dummies(colors, drop_first=True) # Assign False to drop_first parameter and see the result.\n",
    "\n",
    "print(dummies)"
   ]
  },
  {
   "cell_type": "markdown",
   "id": "3734da60",
   "metadata": {},
   "source": [
    "What if we  have more than 2 groups? How can the multiple groups be represented by 1 less column?\n",
    "\n",
    "Let's say we have three colors this time, red, blue and green. When we get_dummies while dropping the first column, we get the following table."
   ]
  },
  {
   "cell_type": "code",
   "execution_count": 8,
   "id": "c95c07c3",
   "metadata": {},
   "outputs": [
    {
     "name": "stdout",
     "output_type": "stream",
     "text": [
      "   color\n",
      "0   blue\n",
      "1    red\n",
      "2  green \n",
      "\n",
      "   color_green  color_red\n",
      "0            0          0\n",
      "1            0          1\n",
      "2            1          0 \n",
      "\n",
      "   color_green  color_red  color\n",
      "0            0          0   blue\n",
      "1            0          1    red\n",
      "2            1          0  green\n"
     ]
    }
   ],
   "source": [
    "colors_three = pd.DataFrame({'color': ['blue', 'red', 'green']})\n",
    "\n",
    "print (colors_three, \"\\n\")\n",
    "\n",
    "dummies = pd.get_dummies(colors_three, drop_first=True)\n",
    "\n",
    "print (dummies, \"\\n\")\n",
    "\n",
    "dummies ['color'] = colors_three ['color'] # # For additional information about ddding new column to existing DataFrame in Pandas, see\n",
    "                                           # https://www.geeksforgeeks.org/adding-new-column-to-existing-dataframe-in-pandas/\n",
    "print(dummies)"
   ]
  },
  {
   "cell_type": "code",
   "execution_count": 5,
   "id": "a90867a2",
   "metadata": {},
   "outputs": [
    {
     "data": {
      "text/plain": [
       "True"
      ]
     },
     "execution_count": 5,
     "metadata": {},
     "output_type": "execute_result"
    }
   ],
   "source": [
    "import webbrowser\n",
    "\n",
    "url = \"https://chat.openai.com/chat\"\n",
    "\n",
    "webbrowser.open_new(url)"
   ]
  }
 ],
 "metadata": {
  "kernelspec": {
   "display_name": "Python 3 (ipykernel)",
   "language": "python",
   "name": "python3"
  },
  "language_info": {
   "codemirror_mode": {
    "name": "ipython",
    "version": 3
   },
   "file_extension": ".py",
   "mimetype": "text/x-python",
   "name": "python",
   "nbconvert_exporter": "python",
   "pygments_lexer": "ipython3",
   "version": "3.9.12"
  }
 },
 "nbformat": 4,
 "nbformat_minor": 5
}
