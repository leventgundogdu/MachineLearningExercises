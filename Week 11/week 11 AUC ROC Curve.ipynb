{
 "cells": [
  {
   "cell_type": "markdown",
   "metadata": {},
   "source": [
    "### AUC - ROC Curve\n",
    "\n",
    "In classification, there are many different evaluation metrics. The most popular is accuracy, which measures how often the model is correct. This is a great metric because it is easy to understand and getting the most correct guesses is often desired. There are some cases where you might consider using another evaluation metric.\n",
    "\n",
    "Another common metric is AUC, area under the receiver operating characteristic (ROC) curve. The Reciever operating characteristic curve plots the True Positive Rate (TPR) (the probability of detection) versus the False Positive Rate (FPR) (the probability of false alarm) at different classification thresholds. The thresholds are different probability cutoffs that separate the two classes in binary classification. It uses probability to tell us how well a model separates the classes.\n",
    "\n",
    "Suppose we have an imbalanced data set where the majority of our data is of one value. We can obtain high accuracy for the model by predicting the majority class."
   ]
  },
  {
   "cell_type": "code",
   "execution_count": 1,
   "metadata": {},
   "outputs": [
    {
     "name": "stdout",
     "output_type": "stream",
     "text": [
      "accuracy score: 0.95\n",
      "Confusion matrix\n",
      "[[   0  500]\n",
      " [   0 9500]]\n",
      "class 0 accuracy: 0.0\n",
      "class 1 accuracy: 1.0\n"
     ]
    }
   ],
   "source": [
    "import numpy as np\n",
    "from sklearn.metrics import accuracy_score, confusion_matrix, roc_auc_score, roc_curve\n",
    "\n",
    "n = 10000\n",
    "ratio = .95\n",
    "n_0 = int((1-ratio) * n) # n_0 = 500\n",
    "n_1 = int(ratio * n)     # n_1 = 9500\n",
    "\n",
    "#print (\"n_0 =\", n_0)\n",
    "#print (\"n_1 =\", n_1)\n",
    "\n",
    "y = np.array([0] * n_0 + [1] * n_1) # A list of 500 0s and 9500 1s.\n",
    "\n",
    "#print (\"y =\", y) \n",
    "\n",
    "# below are the probabilities obtained from a hypothetical model that always predicts the majority class\n",
    "# probability of predicting class 1 is going to be 100%\n",
    "\n",
    "y_proba = np.array([1]*n) # A list of 10000 1s.\n",
    "y_pred = y_proba > .5     # A list of 10000 Trues since 1 is always greater than .5\n",
    "\n",
    "#print (\"y_proba =\", y_proba) \n",
    "#print (\"y_pred =\", y_pred)\n",
    "\n",
    "print(f'accuracy score: {accuracy_score(y, y_pred)}') # Accuracy score will be calculated by comparing 500 0s + 9500 1s (y)\n",
    "                                                      # with 10000 1s (y_pred)\n",
    "cf_mat = confusion_matrix(y, y_pred)\n",
    "print('Confusion matrix')\n",
    "print(cf_mat)                                # 9500 True positives, 500 False positives, 0 True negatives, 0 False negatives\n",
    "                                            # Down right TP, down left FN, up left TN, up right FP\n",
    "print(f'class 0 accuracy: {cf_mat[0][0]/n_0}')\n",
    "print(f'class 1 accuracy: {cf_mat[1][1]/n_1}')"
   ]
  },
  {
   "cell_type": "markdown",
   "metadata": {},
   "source": [
    "Although we obtain a very high accuracy, the model provided no information about the data so it's not useful. We accurately predict class 1 100% of the time while inaccurately predict class 0 0% of the time. At the expense of accuracy, it might be better to have a model that can somewhat separate the two classes."
   ]
  },
  {
   "cell_type": "code",
   "execution_count": 2,
   "metadata": {},
   "outputs": [
    {
     "name": "stdout",
     "output_type": "stream",
     "text": [
      "y_pred_2 [False False  True ...  True  True  True]\n",
      "accuracy score: 0.7179\n",
      "Confusion matrix\n",
      "[[ 353  147]\n",
      " [2674 6826]]\n",
      "class 0 accuracy: 0.706\n",
      "class 1 accuracy: 0.7185263157894737\n"
     ]
    }
   ],
   "source": [
    "# below are the probabilities obtained from a hypothetical model that doesn't always predict the mode\n",
    "y_proba_2 = np.array(np.random.uniform(0, .7, n_0).tolist() + np.random.uniform(.3, 1, n_1).tolist()) # n_0=500, n_1=9500\n",
    "\n",
    "# random.uniform(low=0.0, high=1.0, size=None): Draw samples from a uniform distribution.\n",
    "# print (\"y_proba_2\", y_proba_2)\n",
    "\n",
    "y_pred_2 = y_proba_2 > .5\n",
    "\n",
    "print (\"y_pred_2\", y_pred_2)\n",
    "\n",
    "print(f'accuracy score: {accuracy_score(y, y_pred_2)}')\n",
    "cf_mat = confusion_matrix(y, y_pred_2)\n",
    "print('Confusion matrix')\n",
    "print(cf_mat) # Down right TP, down left FN, up left TN, up right FP\n",
    "print(f'class 0 accuracy: {cf_mat[0][0]/n_0}')\n",
    "print(f'class 1 accuracy: {cf_mat[1][1]/n_1}')"
   ]
  },
  {
   "cell_type": "markdown",
   "metadata": {},
   "source": [
    "For the second set of predictions, we do not have as high of an accuracy score as the first but the accuracy for each class is more balanced. Using accuracy as an evaluation metric we would rate the first model higher than the second even though it doesn't tell us anything about the data.\n",
    "\n",
    "In cases like this, using another evaluation metric like AUC would be preferred."
   ]
  },
  {
   "cell_type": "code",
   "execution_count": 5,
   "metadata": {},
   "outputs": [
    {
     "name": "stdout",
     "output_type": "stream",
     "text": [
      "model 1 AUC score: 0.5\n"
     ]
    },
    {
     "data": {
      "image/png": "[encoded data removed]",
      "text/plain": [
       "<Figure size 432x288 with 1 Axes>"
      ]
     },
     "metadata": {
      "needs_background": "light"
     },
     "output_type": "display_data"
    }
   ],
   "source": [
    "import matplotlib.pyplot as plt\n",
    "\n",
    "def plot_roc_curve(true_y, y_prob):\n",
    "    \"\"\"\n",
    "    plots the roc curve based on the probabilities\n",
    "    \"\"\"\n",
    "\n",
    "    fpr, tpr, thresholds = roc_curve(true_y, y_prob) # First parameter is True binary labels.\n",
    "                                                     # Second parameter is the probability estimates of the positive class\n",
    "    plt.plot(fpr, tpr)\n",
    "    plt.xlabel('False Positive Rate')\n",
    "    plt.ylabel('True Positive Rate')\n",
    "    \n",
    "# model 1    \n",
    "plot_roc_curve(y, y_proba) # y is a list of 500 0s and 9500 1s. y_proba is a list of 10000 1s.\n",
    "\n",
    "print(f'model 1 AUC score: {roc_auc_score(y, y_proba)}') # First parameter is True labels or binary label indicators.\n",
    "                                                         # Second parameter is target scores\n",
    "                                                         # Returns a float which is the Area Under the Curve score        "
   ]
  },
  {
   "cell_type": "markdown",
   "metadata": {},
   "source": [
    "For more information about AUC-ROC Curve see https://towardsdatascience.com/understanding-auc-roc-curve-68b2303cc9c5"
   ]
  },
  {
   "cell_type": "code",
   "execution_count": 4,
   "metadata": {},
   "outputs": [
    {
     "name": "stdout",
     "output_type": "stream",
     "text": [
      "model 2 AUC score: 0.8444246315789474\n"
     ]
    },
    {
     "data": {
      "image/png": "[encoded data removed]",
      "text/plain": [
       "<Figure size 432x288 with 1 Axes>"
      ]
     },
     "metadata": {
      "needs_background": "light"
     },
     "output_type": "display_data"
    }
   ],
   "source": [
    "# model 2\n",
    "\n",
    "plot_roc_curve(y, y_proba_2)\n",
    "\n",
    "print(f'model 2 AUC score: {roc_auc_score(y, y_proba_2)}')"
   ]
  },
  {
   "cell_type": "markdown",
   "metadata": {},
   "source": [
    "An AUC score of around .5 would mean that the model is unable to make a distinction between the two classes and the curve would look like a line with a slope of 1.\n",
    "\n",
    "An AUC score closer to 1 means that the model has the ability to separate the two classes and the curve would come closer to the top left corner of the graph."
   ]
  },
  {
   "cell_type": "markdown",
   "metadata": {},
   "source": [
    "### Probabilities\n",
    "\n",
    "Because AUC is a metric that utilizes probabilities of the class predictions, we can be more confident in a model that has a higher AUC score than one with a lower score even if they have similar accuracies.\n",
    "\n",
    "In the data below, we have two sets of probabilites from hypothetical models. The first has probabilities that are not as \"confident\" when predicting the two classes (the probabilities are close to .5). The second has probabilities that are more \"confident\" when predicting the two classes (the probabilities are close to the extremes of 0 or 1)."
   ]
  },
  {
   "cell_type": "code",
   "execution_count": 10,
   "metadata": {},
   "outputs": [
    {
     "name": "stdout",
     "output_type": "stream",
     "text": [
      "model 1 accuracy score: 0.74825\n",
      "model 2 accuracy score: 0.74945\n",
      "model 1 AUC score: 0.7739544199999999\n",
      "model 2 AUC score: 0.86007581\n"
     ]
    }
   ],
   "source": [
    "n = 10000\n",
    "y = np.array([0] * n + [1] * n) # 10000 0s and 10000 1s.\n",
    "\n",
    "#\n",
    "y_prob_1 = np.array(\n",
    "    np.random.uniform(.25, .5, n//2).tolist() + # random.uniform(low=0.0, high=1.0, size=None)\n",
    "    np.random.uniform(.3, .7, n).tolist() +\n",
    "    np.random.uniform(.5, .75, n//2).tolist()\n",
    ")\n",
    "\n",
    "# print (len (y_prob_1))\n",
    "\n",
    "y_prob_2 = np.array(\n",
    "    np.random.uniform(0, .4, n//2).tolist() +\n",
    "    np.random.uniform(.3, .7, n).tolist() +\n",
    "    np.random.uniform(.6, 1, n//2).tolist()\n",
    ")\n",
    "\n",
    "print(f'model 1 accuracy score: {accuracy_score(y, y_prob_1>.5)}')\n",
    "print(f'model 2 accuracy score: {accuracy_score(y, y_prob_2>.5)}')\n",
    "\n",
    "print(f'model 1 AUC score: {roc_auc_score(y, y_prob_1)}')\n",
    "print(f'model 2 AUC score: {roc_auc_score(y, y_prob_2)}')"
   ]
  },
  {
   "cell_type": "code",
   "execution_count": 11,
   "metadata": {},
   "outputs": [
    {
     "data": {
      "image/png": "[encoded data removed]",
      "text/plain": [
       "<Figure size 432x288 with 1 Axes>"
      ]
     },
     "metadata": {
      "needs_background": "light"
     },
     "output_type": "display_data"
    }
   ],
   "source": [
    "# Plot model 1\n",
    "plot_roc_curve(y, y_prob_1)"
   ]
  },
  {
   "cell_type": "code",
   "execution_count": 15,
   "metadata": {},
   "outputs": [
    {
     "data": {
      "image/png": "[encoded data removed]",
      "text/plain": [
       "<Figure size 432x288 with 1 Axes>"
      ]
     },
     "metadata": {
      "needs_background": "light"
     },
     "output_type": "display_data"
    }
   ],
   "source": [
    "# Plot model 2\n",
    "plot_roc_curve(y, y_prob_2)"
   ]
  },
  {
   "cell_type": "markdown",
   "metadata": {},
   "source": [
    "Even though the accuracies for the two models are similar, the model with the higher AUC score will be more reliable because it takes into account the predicted probability. It is more likely to give you higher accuracy when predicting future data."
   ]
  }
 ],
 "metadata": {
  "kernelspec": {
   "display_name": "Python 3 (ipykernel)",
   "language": "python",
   "name": "python3"
  },
  "language_info": {
   "codemirror_mode": {
    "name": "ipython",
    "version": 3
   },
   "file_extension": ".py",
   "mimetype": "text/x-python",
   "name": "python",
   "nbconvert_exporter": "python",
   "pygments_lexer": "ipython3",
   "version": "3.9.12"
  }
 },
 "nbformat": 4,
 "nbformat_minor": 2
}
