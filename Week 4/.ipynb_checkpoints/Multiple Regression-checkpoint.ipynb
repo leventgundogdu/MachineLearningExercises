{
 "cells": [
  {
   "cell_type": "markdown",
   "metadata": {},
   "source": [
    "### Multiple Regression\n",
    "   Multiple regression is like linear regression, but with more than one independent value, meaning that we try to predict a value based on two or more variables.\n",
    "   \n",
    "   Take a look at the data set below, it contains some information about cars. There are 5 columns: Car, model, volume, weight and CO2. There are 36 different cars forming 36 rows.  \n",
    "   \n",
    "   We can predict the CO2 emission of a car based on the size of the engine, but with multiple regression we can throw in more variables, like the weight of the car, to make the prediction more accurate.\n",
    "#### How Does it Work?\n",
    "   In Python we have modules that will do the work for us. Start by importing the Pandas module. Pandas is a Python library and is used to analyze data. The Pandas module allows us to read csv files and return a DataFrame object. \n",
    "   Pandas is a Python library used for working with data sets.\n",
    "    \n",
    "   It has functions for analyzing, cleaning, exploring, and manipulating data.\n",
    "\n",
    "   The name \"Pandas\" has a reference to both \"Panel Data\", and \"Python Data Analysis\" and was created by Wes McKinney in 2008.\n",
    "   \n",
    "   Pandas allows us to analyze big data and make conclusions based on statistical theories.\n",
    "\n",
    "   Pandas can clean messy data sets, and make them readable and relevant. Relevant data is very important in data science.\n",
    "   Pandas gives you answers about the data. Like:\n",
    "   Is there a correlation between two or more columns?\n",
    "    What is average value?\n",
    "    Max value?\n",
    "    Min value?\n",
    "    Pandas are also able to delete rows that are not relevant, or contains wrong values, like empty or NULL values. This is called cleaning the data.\n",
    "    \n",
    "    sklearn (scikit-learn) module:  Includes simple and efficient tools for predictive data analysis. Accessible to everybody, reusable in various contexts, built on NumPy, SciPy, and matplotlib, open source, commercially usable. Things that you can do with sklearn are: Classification, regression, clustering, dimensionality reduction, model selection and preprocessing.\n",
    "   \n",
    "   The file containing the above mentioned information about the cars is meant for testing purposes only, we can download it from the web site of our text book."
   ]
  },
  {
   "cell_type": "code",
   "execution_count": 8,
   "metadata": {},
   "outputs": [
    {
     "name": "stdout",
     "output_type": "stream",
     "text": [
      "Prediction of the CO2 emission of a car with the weight of 2300kg and with the volume of 1300cm3 is: [107.2087328]\n"
     ]
    }
   ],
   "source": [
    "import pandas\n",
    "from sklearn import linear_model # We will use some methods from the sklearn (scikit-learn) module, \n",
    "                                 # so we will have to import that module as well.\n",
    "\n",
    "df = pandas.read_csv(\"data.csv\") # Read the csv file and return a DataFrame object.\n",
    "\n",
    "X = df[['Weight', 'Volume']]     # Make a list of the independent values and call this variable X.\n",
    "\n",
    "y = df['CO2']                    # Put the dependent values in a variable called y.\n",
    "\n",
    "regr = linear_model.LinearRegression() # From the sklearn module we will use the LinearRegression()\n",
    "                                       # method to create a linear regression object.\n",
    "\n",
    "regr.fit(X, y)                   # This object has a method called fit() that takes the independent\n",
    "                                 # and dependent values as parameters and fills the regression object\n",
    "                                 # with data that describes the relationship.\n",
    "\n",
    "# Now we have a regression object that are ready to predict CO2 values based on a car's weight and volume.\n",
    "# For example: Predict the CO2 emission of a car where the weight is 2300kg, and the volume is 1300cm3.\n",
    "\n",
    "predictedCO2 = regr.predict ([[2300, 1300]]) # reg.predict(np.array([[3, 5]])) # two dimensional array\n",
    "\n",
    "print(\"Prediction of the CO2 emission of a car with the weight of 2300kg and with the volume of 1300cm3 is:\", predictedCO2)"
   ]
  },
  {
   "cell_type": "markdown",
   "metadata": {},
   "source": [
    "We have predicted that a car with 1.3 liter engine, and a weight of 2300 kg, will release approximately 107 grams of CO2 for every kilometer it drives."
   ]
  },
  {
   "cell_type": "markdown",
   "metadata": {},
   "source": [
    "### sklearn.linear_model.LinearRegression Methods\n",
    "\n",
    "fit(X, y[, sample_weight]) -- Fit linear model.\n",
    "\n",
    "get_params([deep]) -- Get parameters for this estimator.\n",
    "\n",
    "predict(X) -- Predict using the linear model.\n",
    "\n",
    "score(X, y[, sample_weight]) -- Return the coefficient of determination of the prediction.\n",
    "\n",
    "set_params(**params) -- Set the parameters of this estimator."
   ]
  },
  {
   "cell_type": "markdown",
   "metadata": {},
   "source": [
    "## Coefficient:\n",
    "\n",
    "The coefficient is a factor that describes the relationship with an unknown variable.\n",
    "\n",
    "Example: if x is a variable, then 2x is x two times. x is the unknown variable, and the number 2 is the coefficient.\n",
    "\n",
    "In this case, we can ask for the coefficient value of weight against CO2, and for volume against CO2. The answer(s) we get tells us what would happen if we increase, or decrease, one of the independent values.\n",
    "\n",
    "Print the coefficient values of the regression object:"
   ]
  },
  {
   "cell_type": "code",
   "execution_count": 6,
   "metadata": {},
   "outputs": [
    {
     "name": "stdout",
     "output_type": "stream",
     "text": [
      "[0.00755095 0.00780526]\n"
     ]
    }
   ],
   "source": [
    "print(regr.coef_)"
   ]
  },
  {
   "cell_type": "markdown",
   "metadata": {},
   "source": [
    "Attributes of sklearn.linear_model.LinearRegression:\n",
    "coef_ : array of shape (n_features, ) or (n_targets, n_features)\n",
    "Estimated coefficients for the linear regression problem. If multiple targets are passed during the fit (y 2D), this is a 2D array of shape (n_targets, n_features), while if only one target is passed, this is a 1D array of length n_features.\n",
    "...\n",
    "\n",
    "### Result Explained\n",
    "The result array represents the coefficient values of weight and volume.\n",
    "\n",
    "Weight: 0.00755095\n",
    "Volume: 0.00780526\n",
    "\n",
    "These values tell us that if the weight increase by 1kg, the CO2 emission increases by 0.00755095g.\n",
    "\n",
    "And if the engine size (Volume) increases by 1 cm3, the CO2 emission increases by 0.00780526 g.\n",
    "\n",
    "I think that is a fair guess, but let test it!\n",
    "\n",
    "We have already predicted that if a car with a 1300cm3 engine weighs 2300kg, the CO2 emission will be approximately 107gr (107.2087328 gr). What if we increase the weight with 1000kg?\n",
    "\n",
    "If we run the above example with 3300 kg instead of 2300 kg, then the result will be 114.75968007 grams of CO2 for every kilometer it drives.  \n",
    "\n",
    "Which shows that the coefficient of 0.00755095 is correct:\n",
    "\n",
    "107.2087328 + (1000 * 0.00755095) = 114.75968 \n",
    "\n",
    "Why do you multiply the coefficient and add the result to initial dependent variable?\n",
    "Because; if the weight increases by 1kg, the CO2 emission increases by 0.00755095g.\n",
    "And;     if the weight increases by 1000kg, the CO2 emission increases by 7.55095g. "
   ]
  }
 ],
 "metadata": {
  "kernelspec": {
   "display_name": "Python 3 (ipykernel)",
   "language": "python",
   "name": "python3"
  },
  "language_info": {
   "codemirror_mode": {
    "name": "ipython",
    "version": 3
   },
   "file_extension": ".py",
   "mimetype": "text/x-python",
   "name": "python",
   "nbconvert_exporter": "python",
   "pygments_lexer": "ipython3",
   "version": "3.9.12"
  }
 },
 "nbformat": 4,
 "nbformat_minor": 2
}
