{
 "cells": [
  {
   "cell_type": "markdown",
   "id": "963d4394",
   "metadata": {},
   "source": [
    "### Regression:\n",
    "\n",
    "The term regression is used when you try to find the relationship between variables.\n",
    "\n",
    "In Machine Learning, and in statistical modeling, that relationship is used to predict the outcome of future events."
   ]
  },
  {
   "cell_type": "markdown",
   "id": "2353f084",
   "metadata": {},
   "source": [
    "### Linear Regression\n",
    "\n",
    "Linear regression uses the relationship between the data-points to draw a straight line through all them.\n",
    "\n",
    "This line can be used to predict future values.\n",
    "\n",
    "In Machine Learning, predicting the future is very important."
   ]
  },
  {
   "cell_type": "markdown",
   "id": "9fa9ba3c",
   "metadata": {},
   "source": [
    "### How Does it Work?\n",
    "\n",
    "Python has methods for finding a relationship between data-points and to draw a line of linear regression. I will show you how to use these methods instead of going through the mathematic formula.\n",
    "\n",
    "In the example below, the x-axis represents age, and the y-axis represents speed. We have registered the age and speed of 13 cars as they were passing a tollbooth. Let us see if the data we collected could be used in a linear regression.\n",
    "\n",
    "Start by drawing a scatter plot."
   ]
  },
  {
   "cell_type": "code",
   "execution_count": 2,
   "id": "488d5d01",
   "metadata": {},
   "outputs": [
    {
     "data": {
      "image/png": "[encoded data removed]",
      "text/plain": [
       "<Figure size 432x288 with 1 Axes>"
      ]
     },
     "metadata": {
      "needs_background": "light"
     },
     "output_type": "display_data"
    }
   ],
   "source": [
    "import matplotlib.pyplot as plt\n",
    "\n",
    "x = [5,7,8,7,2,17,2,9,4,11,12,9,6]\n",
    "y = [99,86,87,88,111,86,103,87,94,78,77,85,86]\n",
    "\n",
    "plt.scatter(x, y)\n",
    "plt.show()"
   ]
  },
  {
   "cell_type": "code",
   "execution_count": 4,
   "id": "91c87272",
   "metadata": {
    "scrolled": true
   },
   "outputs": [
    {
     "name": "stdout",
     "output_type": "stream",
     "text": [
      "slope is: -1.7512877115526118\n",
      "intercept is: 103.10596026490066\n",
      "r is: -0.758591524376155\n",
      "p is: 0.0026468739224561064\n",
      "std_err is: 0.453536157607742\n"
     ]
    },
    {
     "data": {
      "image/png": "[encoded data removed]",
      "text/plain": [
       "<Figure size 432x288 with 1 Axes>"
      ]
     },
     "metadata": {
      "needs_background": "light"
     },
     "output_type": "display_data"
    }
   ],
   "source": [
    "from scipy import stats\n",
    "\n",
    "# Execute a method that returns some important key values of Linear Regression:\n",
    "\n",
    "slope, intercept, r, p, std_err = stats.linregress(x, y)\n",
    "print (\"slope is:\", slope)\n",
    "print (\"intercept is:\", intercept)\n",
    "print (\"r is:\", r)\n",
    "print (\"p is:\", p)\n",
    "print (\"std_err is:\", std_err)\n",
    "\n",
    "# Create a function that uses the slope and intercept values to return a new value.\n",
    "# This new value represents where on the y-axis the corresponding x value will be placed:\n",
    "\n",
    "def myfunc(x):\n",
    "  return slope * x + intercept # -1.75 * x + 103.1 \n",
    "\n",
    "# The map() function executes a specified function for each item in an iterable. \n",
    "# The item is sent to the function as a parameter.\n",
    "mymodel = list(map(myfunc, x))\n",
    "#print (\"mymodel is\", mymodel)\n",
    "\n",
    "plt.scatter(x, y)    # Draw the original scatter plot\n",
    "plt.plot(x, mymodel) # Draw the line of linear regression\n",
    "plt.show()           # Display the diagram"
   ]
  },
  {
   "cell_type": "markdown",
   "id": "1059e946",
   "metadata": {},
   "source": [
    "scipy.stats.linregress(x, y=None, alternative='two-sided')\n",
    "\n",
    "Calculate a linear least-squares regression for two sets of measurements.\n",
    "\n",
    "#### The return value is an object with the following attributes:\n",
    "\n",
    "slopefloat\n",
    "Slope of the regression line.\n",
    "\n",
    "interceptfloat\n",
    "Intercept of the regression line.\n",
    "\n",
    "rvaluefloat\n",
    "The Pearson correlation coefficient. The square of rvalue is equal to the coefficient of determination.\n",
    "\n",
    "pvaluefloat\n",
    "The p-value for a hypothesis test whose null hypothesis is that the slope is zero, using Wald Test with t-distribution of the test statistic. See alternative above for alternative hypotheses.\n",
    "\n",
    "stderrfloat\n",
    "Standard error of the estimated slope (gradient), under the assumption of residual normality.\n",
    "\n",
    "intercept_stderrfloat\n",
    "Standard error of the estimated intercept, under the assumption of residual normality."
   ]
  },
  {
   "cell_type": "markdown",
   "id": "a2ed8165",
   "metadata": {},
   "source": [
    "Create a function that uses the slope and intercept values to return a new value. This new value represents where on the y-axis the corresponding x value will be placed:\n",
    "\n",
    "def myfunc(x):\n",
    "  return slope * x + intercept\n",
    "  \n",
    "######\n",
    "The map() function executes a specified function for each item in an iterable.The item is sent to the function as a parameter.\n",
    "\n",
    "Run each value of the x array through the function. This will result in a new array with new values for the y-axis:\n",
    "\n",
    "mymodel = list(map(myfunc, x))"
   ]
  },
  {
   "cell_type": "markdown",
   "id": "4d6cdfa5",
   "metadata": {},
   "source": [
    "# R for Relationship\n",
    "\n",
    "It is important to know how the relationship between the values of the x-axis and the values of the y-axis is, if there are no relationship the linear regression can not be used to predict anything.\n",
    "\n",
    "This relationship - the coefficient of correlation - is called r.\n",
    "\n",
    "The r value ranges from -1 to 1, where 0 means no relationship, and 1 (and -1) means 100% related.\n",
    "\n",
    "Python and the Scipy module will compute this value for you, all you have to do is feed it with the x and y values.\n",
    "\n",
    "Example: How well does my data fit in a linear regression?"
   ]
  },
  {
   "cell_type": "code",
   "execution_count": 9,
   "id": "58d57bf0",
   "metadata": {},
   "outputs": [
    {
     "name": "stdout",
     "output_type": "stream",
     "text": [
      "-0.758591524376155\n"
     ]
    }
   ],
   "source": [
    "print(r)"
   ]
  },
  {
   "cell_type": "code",
   "execution_count": 10,
   "id": "62f6c213",
   "metadata": {},
   "outputs": [
    {
     "name": "stdout",
     "output_type": "stream",
     "text": [
      "Speed of a ten year old car is: 85.59308314937454\n"
     ]
    }
   ],
   "source": [
    "# Example: Predict the speed of a 10 year old car:\n",
    "\n",
    "speed_of_ten_year_old_car = myfunc(10)\n",
    "\n",
    "print(\"Speed of a ten year old car is:\", speed_of_ten_year_old_car)"
   ]
  },
  {
   "cell_type": "markdown",
   "id": "f14a3916",
   "metadata": {},
   "source": [
    "#### Bad Fit:\n",
    "Let us create an example where linear regression would not be the best method to predict future values.\n",
    "The following values for the x- and y-axis should result in a very bad fit for linear regression:"
   ]
  },
  {
   "cell_type": "code",
   "execution_count": 13,
   "id": "96174868",
   "metadata": {},
   "outputs": [
    {
     "name": "stdout",
     "output_type": "stream",
     "text": [
      "listenin uzunluğu: 20\n",
      "R: 0.01331814154297491\n"
     ]
    },
    {
     "data": {
      "image/png": "[encoded data removed]",
      "text/plain": [
       "<Figure size 432x288 with 1 Axes>"
      ]
     },
     "metadata": {
      "needs_background": "light"
     },
     "output_type": "display_data"
    }
   ],
   "source": [
    "x_bad_fit = [89,43,36,36,95,10,66,34,38,20,26,29,48,64,6,5,36,66,72,40]\n",
    "print (\"listenin uzunluğu:\" , len(x_bad_fit))\n",
    "y_bad_fit = [21,46,3,35,67,95,53,72,58,10,26,34,90,33,38,20,56,2,47,15]\n",
    "\n",
    "slope_bad_fit, intercept_bad_fit, r_bad_fit, p_bad_fit, std_err_bad_fit = stats.linregress(x_bad_fit, y_bad_fit)\n",
    "\n",
    "print (\"R:\", r_bad_fit)\n",
    "def myfunc(x_bad_fit):\n",
    "  return slope_bad_fit * x_bad_fit + intercept_bad_fit\n",
    "\n",
    "mymodel_for_bad_fit = list(map(myfunc, x_bad_fit))\n",
    "\n",
    "plt.scatter(x_bad_fit, y_bad_fit)\n",
    "plt.plot(x_bad_fit, mymodel_for_bad_fit)\n",
    "plt.show()"
   ]
  },
  {
   "cell_type": "code",
   "execution_count": 6,
   "id": "62b79c95",
   "metadata": {},
   "outputs": [
    {
     "name": "stdout",
     "output_type": "stream",
     "text": [
      "Relationship coefficient r is: 0.01331814154297491\n"
     ]
    }
   ],
   "source": [
    "print (\"Relationship coefficient r is:\", r_bad_fit)"
   ]
  },
  {
   "cell_type": "markdown",
   "id": "fd2141ca",
   "metadata": {},
   "source": [
    "The result 0.013 indicates a very bad relationship, and tells us that this data set is not suitable for linear regression."
   ]
  },
  {
   "cell_type": "code",
   "execution_count": null,
   "id": "1f22f8ec",
   "metadata": {},
   "outputs": [],
   "source": []
  }
 ],
 "metadata": {
  "kernelspec": {
   "display_name": "Python 3 (ipykernel)",
   "language": "python",
   "name": "python3"
  },
  "language_info": {
   "codemirror_mode": {
    "name": "ipython",
    "version": 3
   },
   "file_extension": ".py",
   "mimetype": "text/x-python",
   "name": "python",
   "nbconvert_exporter": "python",
   "pygments_lexer": "ipython3",
   "version": "3.9.12"
  }
 },
 "nbformat": 4,
 "nbformat_minor": 5
}
